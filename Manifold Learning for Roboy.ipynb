{
 "metadata": {
  "kernelspec": {
   "display_name": "Python 3",
   "language": "python",
   "name": "python3"
  },
  "language_info": {
   "codemirror_mode": {
    "name": "ipython",
    "version": 3
   },
   "file_extension": ".py",
   "mimetype": "text/x-python",
   "name": "python",
   "nbconvert_exporter": "python",
   "pygments_lexer": "ipython3",
   "version": "3.6.3"
  },
  "name": "",
  "signature": "sha256:cc2ee2f317e552a6edfe5416a9296df67ce824b75f8f34c8fa372cb6f36d383c"
 },
 "nbformat": 3,
 "nbformat_minor": 0,
 "worksheets": [
  {
   "cells": [
    {
     "cell_type": "code",
     "collapsed": true,
     "input": [
      "import json\n",
      "import numpy as np\n",
      "import pandas as pd\n",
      "\n",
      "%matplotlib inline\n",
      "import matplotlib.pyplot as plt"
     ],
     "language": "python",
     "metadata": {},
     "outputs": []
    },
    {
     "cell_type": "code",
     "collapsed": false,
     "input": [
      "### filtering\n",
      "\n",
      "json.load"
     ],
     "language": "python",
     "metadata": {},
     "outputs": []
    },
    {
     "cell_type": "code",
     "collapsed": false,
     "input": [
      "def load_data(fname, keys=['current', 'displacement', 'position']):\n",
      "    \"\"\" Load a json file with recordings\n",
      "    \n",
      "    The file is converted into multiple pandas dataframes\n",
      "    \"\"\"\n",
      "    with open(fname, 'r') as fp:\n",
      "        data = json.load(fp)\n",
      "    \n",
      "    topics = []\n",
      "    dfs = []\n",
      "    for topic in data.keys():\n",
      "        df = pd.DataFrame()\n",
      "        df = df.from_dict(data[topic], orient=\"index\")\n",
      "        topics.append(topic)\n",
      "        dfs.append(df)\n",
      "        for key in df.columns:\n",
      "            if isinstance(df[key][0], list):\n",
      "                vals = df[key].values.tolist()\n",
      "                topics.append(os.path.join(topic, key))\n",
      "                dfs.append(pd.DataFrame(vals, index=df.index))\n",
      "                \n",
      "    return topics, dfs\n",
      "  \n",
      "topics, dfs = load_data('data/recorded_behaviors/lateral_rotations_clockwise.bag.json')\n",
      "df_dict = {k:v for k,v in zip(topics,dfs)}"
     ],
     "language": "python",
     "metadata": {},
     "outputs": []
    },
    {
     "cell_type": "code",
     "collapsed": false,
     "input": [
      "topics"
     ],
     "language": "python",
     "metadata": {},
     "outputs": []
    },
    {
     "cell_type": "code",
     "collapsed": false,
     "input": [
      "pose = df_dict['/mocap/MarkerPose'].as_matrix()\n",
      "t = np.array(df_dict['/mocap/MarkerPose'].index).astype(\"int\")\n",
      "\n",
      "idc_active, = np.where(df_dict['/roboy/middleware/MotorStatus/displacement'].as_matrix().sum(axis=0) > 0)\n",
      "displacement = df_dict['/roboy/middleware/MotorStatus/displacement'].as_matrix(columns=idc_active)\n",
      "time = np.array(df_dict['/roboy/middleware/MotorStatus/displacement'].index).astype(\"int\")\n",
      "time -= t[0]\n",
      "\n",
      "t -= t[0]\n",
      "\n",
      "_,ax=plt.subplots(1,2,figsize=(15,5),sharex=True)\n",
      "ax[0].plot(t, pose)\n",
      "ax[1].plot(time,displacement)\n",
      "plt.show()"
     ],
     "language": "python",
     "metadata": {},
     "outputs": []
    },
    {
     "cell_type": "code",
     "collapsed": false,
     "input": [],
     "language": "python",
     "metadata": {},
     "outputs": []
    },
    {
     "cell_type": "code",
     "collapsed": false,
     "input": [
      "import pandas as pd"
     ],
     "language": "python",
     "metadata": {},
     "outputs": []
    },
    {
     "cell_type": "code",
     "collapsed": false,
     "input": [
      "  \n",
      "    \n",
      "fnames = {0 : ['Downloads/roboy_recordings/rec1/hands_random.bag.json'],\n",
      "          1 : ['Downloads/roboy_recordings/rec1/hands_up.bag.json',\n",
      "               'Downloads/roboy_recordings/rec2/hands_up.bag.json',\n",
      "               'Downloads/roboy_recordings/rec2/hands_up2.bag.json'],\n",
      "          2 : ['Downloads/roboy_recordings/rec1/hands_side.bag.json',\n",
      "               'Downloads/roboy_recordings/rec2/hands_side.bag.json',\n",
      "               'Downloads/roboy_recordings/rec2/hands_side2.bag.json'],\n",
      "          3 : ['Downloads/roboy_recordings/rec1/hands_round.bag.json',\n",
      "               'Downloads/roboy_recordings/rec2/hands_round.bag.json']\n",
      "          }\n",
      "\n",
      "X = []\n",
      "y = []\n",
      "for lbl in fnames.keys():\n",
      "    for i, fname in enumerate(fnames[lbl]):\n",
      "        current, = load_data(fname, keys=['displacement'])\n",
      "        X.append(current)\n",
      "        y.append(lbl * np.ones(len(current)))\n",
      "    \n",
      "X = np.concatenate(X)\n",
      "y = np.concatenate(y)\n",
      "\n",
      "X.shape, y.shape"
     ],
     "language": "python",
     "metadata": {},
     "outputs": []
    },
    {
     "cell_type": "code",
     "collapsed": false,
     "input": [
      "import h5py\n",
      "\n",
      "!rm -f roboy_dataset.hdf5\n",
      "with h5py.File('roboy_dataset.hdf5') as ds:\n",
      "    ds['X'] = X\n",
      "    ds['y'] = y"
     ],
     "language": "python",
     "metadata": {},
     "outputs": []
    },
    {
     "cell_type": "code",
     "collapsed": false,
     "input": [
      "for i in np.unique(y):\n",
      "    plt.plot(X[y == i][:])\n",
      "    plt.ylim(-200,400)\n",
      "    plt.show()"
     ],
     "language": "python",
     "metadata": {},
     "outputs": []
    },
    {
     "cell_type": "code",
     "collapsed": false,
     "input": [
      "mu = X.mean(axis=-1,keepdims=True)\n",
      "sd = 1e-5 + X.std(axis=-1,keepdims=True)\n",
      "X_ = (X - mu) / sd"
     ],
     "language": "python",
     "metadata": {},
     "outputs": []
    },
    {
     "cell_type": "code",
     "collapsed": false,
     "input": [
      "from sklearn.decomposition import PCA\n",
      "\n",
      "pca = PCA(n_components=2)\n",
      "f = pca.fit_transform(X_)"
     ],
     "language": "python",
     "metadata": {},
     "outputs": []
    },
    {
     "cell_type": "code",
     "collapsed": false,
     "input": [
      "fig, axes = plt.subplots(2,4,figsize=(20,8))\n",
      "\n",
      "id_start = 2000\n",
      "id_stop  = 20000\n",
      "idc = slice(id_start, id_stop)\n",
      "\n",
      "for i in np.unique(y).astype(\"int\"):\n",
      "    c = np.arange(len(f[y==i,0][idc]))\n",
      "    axes[0,i].scatter(f[y==i,0][idc], f[y==i,1][idc], c = c, cmap=\"gray\")\n",
      "    axes[0,i].set_xlim([-3,3])\n",
      "    axes[0,i].set_ylim([-3,3])\n",
      "    \n",
      "    axes[1,i].plot(X_[y==i][idc])"
     ],
     "language": "python",
     "metadata": {},
     "outputs": []
    },
    {
     "cell_type": "code",
     "collapsed": false,
     "input": [
      "plt.figure(figsize=(20,20))\n",
      "plt.scatter(f[:,0], f[:,1], c = y)"
     ],
     "language": "python",
     "metadata": {},
     "outputs": []
    },
    {
     "cell_type": "code",
     "collapsed": false,
     "input": [
      "import seaborn as sns\n",
      "\n",
      "fig, axes = plt.subplots(1,3,figsize=(20,5))\n",
      "titles = ['X/Y', 'Radius', 'Theta']\n",
      "\n",
      "sns.distplot(f[:,0],ax=axes[0])\n",
      "sns.distplot(f[:,1],ax=axes[0])\n",
      "\n",
      "r = (f[:,0]**2 + f[:,1]**2)**0.5\n",
      "theta = np.arctan2(f[:,1], f[:,0]) / np.pi\n",
      "\n",
      "sns.distplot(r,ax=axes[1])\n",
      "sns.distplot(r[y==1],ax=axes[1])\n",
      "sns.distplot(r[y==2],ax=axes[1])\n",
      "sns.distplot(r[y==3],ax=axes[1])\n",
      "\n",
      "#sns.distplot(theta,ax=axes[2])\n",
      "sns.distplot(theta[y==0],ax=axes[2],hist=None)\n",
      "sns.distplot(theta[y==1],ax=axes[2],hist=None)\n",
      "sns.distplot(theta[y==2],ax=axes[2],hist=None)\n",
      "sns.distplot(theta[y==3],ax=axes[2],hist=None)\n",
      "\n",
      "for ax, t in zip(axes.flatten(), titles): ax.set_title(t)\n",
      "\n",
      "plt.show()"
     ],
     "language": "python",
     "metadata": {},
     "outputs": []
    },
    {
     "cell_type": "code",
     "collapsed": false,
     "input": [
      "plt.plot(r[y==2])"
     ],
     "language": "python",
     "metadata": {},
     "outputs": []
    },
    {
     "cell_type": "code",
     "collapsed": false,
     "input": [
      "from sklearn.manifold import TSNE\n",
      "\n",
      "patches = f[:511200].reshape(-1,100*2)\n",
      "tsne = TSNE()\n",
      "embedding = tsne.fit_transform(patches)"
     ],
     "language": "python",
     "metadata": {},
     "outputs": []
    },
    {
     "cell_type": "code",
     "collapsed": false,
     "input": [
      "plt.scatter(embedding[:,0], embedding[:,1], c = y[:511200:100])\n",
      "\n",
      "plt.show()"
     ],
     "language": "python",
     "metadata": {},
     "outputs": []
    }
   ],
   "metadata": {}
  }
 ]
}